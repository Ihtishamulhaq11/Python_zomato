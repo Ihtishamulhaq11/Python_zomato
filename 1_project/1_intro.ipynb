{
 "cells": [
  {
   "cell_type": "markdown",
   "metadata": {},
   "source": [
    "# Data Collection\n",
    "\n",
    "This is the data of \"zomato\" which provide online services to deliver different food products.\n",
    "And the data is taken from Kaggle which provide an open source data storage."
   ]
  },
  {
   "cell_type": "markdown",
   "metadata": {},
   "source": [
    "## Cleaning and Analysing Data "
   ]
  },
  {
   "cell_type": "markdown",
   "metadata": {},
   "source": [
    "## Goals\n",
    "# Chapter 1\n",
    "1. processing and Get into the Data  \n",
    "2. Cleaning the data \n",
    "# Chapter 2\n",
    " Exploratry data analysis to find Answer \n",
    "1. Frequecy distribution of the numerical columns\n",
    "2. Find the percent of ordered online and the cost difference of online \n",
    "3. Finding the top 7 most favrite among differnt groups based on customer\n",
    "3. Finding the top 7 most favrite among differnt groups based on rating\n",
    "5. finding the least and most expensive type in each group\n",
    "6. finding the least and most expensive Resturants\n",
    "7. finding the the relationship between cost and number of customer for cuisines "
   ]
  },
  {
   "cell_type": "markdown",
   "metadata": {},
   "source": [
    "## Diliverables\n",
    "1. To give business stratagy based on the findings\n",
    "2. Find most favorite Dishes , cuisines , Resturants, and type . and focus on those types to align with       customer's purchase.\n",
    "3. Find whether costly cuisines attract more customers and rating or not , or customer more like other  cuisines"
   ]
  }
 ],
 "metadata": {
  "language_info": {
   "name": "python"
  }
 },
 "nbformat": 4,
 "nbformat_minor": 2
}
